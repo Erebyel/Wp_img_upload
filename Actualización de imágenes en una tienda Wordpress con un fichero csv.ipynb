{
 "cells": [
  {
   "cell_type": "markdown",
   "metadata": {},
   "source": [
    "# Actualización de imágenes en una tienda WordPress con un fichero csv\n",
    "\n",
    "Quiero compartir y describir el proceso que seguí en uno de los últimos trabajos que he realizado. No pretende ser una fórmula, pero sí que puede servir cómo guía para enfrentarse a un problema de este tipo, ajustándolo a los retos particulares que suponga el caso concreto.\n",
    "\n",
    "Sé que, por ahí, todavía hay muchos diseñadores gráficos que, a la hora de montar una tienda en WordPress, se ven bastante apurados a la hora de subir y añadir las fotos de los productos en la tienda (sobre todo, si son cantidades importantes).\n",
    "\n",
    "Como cada cliente es un mundo y facilitan la información estructurada *a su manera*, se puede optar por limpiar y estructurar correctamente la información dentro del archivo y luego subirlo o, en base al archivo que han enviado, ir añadiendo los productos uno a uno. La opción rápida, si sabes cómo gestionar el `.csv` para que la tienda de Wordpress la entienda correctamente, es tratar el archivo y luego cargarlo en la tienda; lo que requiere de saber de un poco de codificación de archivos, de cómo necesita la tienda que esté puesto cada campo, etc.\n",
    "\n",
    "\n",
    "## Problema\n",
    "Sé que, en este caso, podría haber hablado del tratamiento de los datos que realicé hace meses para conseguir un `.csv` que no contuviera errores a la hora de importarlo a WordPress, pero fue hace meses y ya está en su sitio; realizar todo el proceso nuevamente solo para explicarlo… bueno, igual para el siguiente. Por eso, y como es un caso muy reciente (de esta semana) que está fresquito todavía en mi cabeza para poder explicarlo, me centro en la **actualización de registros en una tienda Wordpress para añadir imágenes**.\n",
    "\n",
    "Normalmente, cuando hablamos de compañías un poco más grandes donde tienen bases de datos y sistemas con cierto grado de automatización, si se ha hecho correctamente, las imágenes deberían almacenarse con una referencia unívoca que la relacione con el producto. Este sería un caso fácil porque ese número, normalmente, habrá actuado como `SKU` a la hora de dar de alta el producto en la web y tendrá un formato estandarizado (podría usarse, por ejemplo, el código de barras de cada producto).\n",
    "\n",
    "Cuando la empresa todavía es joven, no ha llevado un proceso de estandarización de referencias o trabaja con productos que no utilizan un código de barras específico, es habitual encontrarse con casos particulares que pueden hacer *casi* imposible hacer ciertos trabajos de forma más o menos automática.\n",
    "\n",
    "En el caso que voy a desarrollar a continuación, el conjunto de 525 imágenes llegó nombrado con el nombre de los productos, lo que suponía ciertos problemas para el proceso:\n",
    "\n",
    "1. No existía una relación unívoca de la imagen con el producto al que correspondía.\n",
    "2. Las URL de las imágenes contenían caracteres que serían sustituidos (ñ, acentos, etc.) y complicarían la automatización de las URL.\n",
    "\n",
    "Estos eran los dos problemas principales a los que me enfrentaba, el único punto a favor es que no había que retorcer mucho más el problema, porque no existían varias imágenes por producto (cosa que lo hubiese complicado).\n",
    "\n",
    "Al menos tenía cierta pauta en los nombres de los productos, así que comencé por lo más sencillo: **exportar la tienda de WordPress y descargarla** para poder buscar alguna forma de automatizar el proceso."
   ]
  },
  {
   "cell_type": "code",
   "execution_count": 1,
   "metadata": {},
   "outputs": [
    {
     "data": {
      "text/html": [
       "<div>\n",
       "<style scoped>\n",
       "    .dataframe tbody tr th:only-of-type {\n",
       "        vertical-align: middle;\n",
       "    }\n",
       "\n",
       "    .dataframe tbody tr th {\n",
       "        vertical-align: top;\n",
       "    }\n",
       "\n",
       "    .dataframe thead th {\n",
       "        text-align: right;\n",
       "    }\n",
       "</style>\n",
       "<table border=\"1\" class=\"dataframe\">\n",
       "  <thead>\n",
       "    <tr style=\"text-align: right;\">\n",
       "      <th></th>\n",
       "      <th>ID</th>\n",
       "      <th>Tipo</th>\n",
       "      <th>SKU</th>\n",
       "      <th>Nombre</th>\n",
       "      <th>Publicado</th>\n",
       "      <th>¿Está destacado?</th>\n",
       "      <th>Visibilidad en el catálogo</th>\n",
       "      <th>Descripción corta</th>\n",
       "      <th>Descripción</th>\n",
       "      <th>Día en que empieza el precio rebajado</th>\n",
       "      <th>...</th>\n",
       "      <th>Imágenes</th>\n",
       "      <th>Límite de descargas</th>\n",
       "      <th>Días de caducidad de la descarga</th>\n",
       "      <th>Superior</th>\n",
       "      <th>Productos agrupados</th>\n",
       "      <th>Ventas dirigidas</th>\n",
       "      <th>Ventas cruzadas</th>\n",
       "      <th>URL externa</th>\n",
       "      <th>Texto del botón</th>\n",
       "      <th>Posición</th>\n",
       "    </tr>\n",
       "  </thead>\n",
       "  <tbody>\n",
       "    <tr>\n",
       "      <th>0</th>\n",
       "      <td>1</td>\n",
       "      <td>simple</td>\n",
       "      <td>NaN</td>\n",
       "      <td>Gata Seria</td>\n",
       "      <td>1</td>\n",
       "      <td>0</td>\n",
       "      <td>visible</td>\n",
       "      <td>NaN</td>\n",
       "      <td>NaN</td>\n",
       "      <td>NaN</td>\n",
       "      <td>...</td>\n",
       "      <td>NaN</td>\n",
       "      <td>NaN</td>\n",
       "      <td>NaN</td>\n",
       "      <td>NaN</td>\n",
       "      <td>NaN</td>\n",
       "      <td>NaN</td>\n",
       "      <td>NaN</td>\n",
       "      <td>NaN</td>\n",
       "      <td>NaN</td>\n",
       "      <td>0</td>\n",
       "    </tr>\n",
       "    <tr>\n",
       "      <th>1</th>\n",
       "      <td>2</td>\n",
       "      <td>simple</td>\n",
       "      <td>BOCARRIBA</td>\n",
       "      <td>Gata boca arriba</td>\n",
       "      <td>1</td>\n",
       "      <td>0</td>\n",
       "      <td>visible</td>\n",
       "      <td>NaN</td>\n",
       "      <td>NaN</td>\n",
       "      <td>NaN</td>\n",
       "      <td>...</td>\n",
       "      <td>NaN</td>\n",
       "      <td>NaN</td>\n",
       "      <td>NaN</td>\n",
       "      <td>NaN</td>\n",
       "      <td>NaN</td>\n",
       "      <td>NaN</td>\n",
       "      <td>NaN</td>\n",
       "      <td>NaN</td>\n",
       "      <td>NaN</td>\n",
       "      <td>0</td>\n",
       "    </tr>\n",
       "    <tr>\n",
       "      <th>2</th>\n",
       "      <td>3</td>\n",
       "      <td>simple</td>\n",
       "      <td>CONTENTA</td>\n",
       "      <td>Gata contenta</td>\n",
       "      <td>1</td>\n",
       "      <td>0</td>\n",
       "      <td>visible</td>\n",
       "      <td>NaN</td>\n",
       "      <td>NaN</td>\n",
       "      <td>NaN</td>\n",
       "      <td>...</td>\n",
       "      <td>NaN</td>\n",
       "      <td>NaN</td>\n",
       "      <td>NaN</td>\n",
       "      <td>NaN</td>\n",
       "      <td>NaN</td>\n",
       "      <td>NaN</td>\n",
       "      <td>NaN</td>\n",
       "      <td>NaN</td>\n",
       "      <td>NaN</td>\n",
       "      <td>0</td>\n",
       "    </tr>\n",
       "    <tr>\n",
       "      <th>3</th>\n",
       "      <td>4</td>\n",
       "      <td>simple</td>\n",
       "      <td>COQUETA</td>\n",
       "      <td>Gata coqueta</td>\n",
       "      <td>1</td>\n",
       "      <td>0</td>\n",
       "      <td>visible</td>\n",
       "      <td>NaN</td>\n",
       "      <td>NaN</td>\n",
       "      <td>NaN</td>\n",
       "      <td>...</td>\n",
       "      <td>NaN</td>\n",
       "      <td>NaN</td>\n",
       "      <td>NaN</td>\n",
       "      <td>NaN</td>\n",
       "      <td>NaN</td>\n",
       "      <td>NaN</td>\n",
       "      <td>NaN</td>\n",
       "      <td>NaN</td>\n",
       "      <td>NaN</td>\n",
       "      <td>0</td>\n",
       "    </tr>\n",
       "    <tr>\n",
       "      <th>4</th>\n",
       "      <td>5</td>\n",
       "      <td>simple</td>\n",
       "      <td>DOR</td>\n",
       "      <td>Gata dormida</td>\n",
       "      <td>1</td>\n",
       "      <td>0</td>\n",
       "      <td>visible</td>\n",
       "      <td>NaN</td>\n",
       "      <td>NaN</td>\n",
       "      <td>NaN</td>\n",
       "      <td>...</td>\n",
       "      <td>NaN</td>\n",
       "      <td>NaN</td>\n",
       "      <td>NaN</td>\n",
       "      <td>NaN</td>\n",
       "      <td>NaN</td>\n",
       "      <td>NaN</td>\n",
       "      <td>NaN</td>\n",
       "      <td>NaN</td>\n",
       "      <td>NaN</td>\n",
       "      <td>0</td>\n",
       "    </tr>\n",
       "    <tr>\n",
       "      <th>5</th>\n",
       "      <td>6</td>\n",
       "      <td>simple</td>\n",
       "      <td>NaN</td>\n",
       "      <td>Gata enfadada</td>\n",
       "      <td>1</td>\n",
       "      <td>0</td>\n",
       "      <td>visible</td>\n",
       "      <td>NaN</td>\n",
       "      <td>NaN</td>\n",
       "      <td>NaN</td>\n",
       "      <td>...</td>\n",
       "      <td>NaN</td>\n",
       "      <td>NaN</td>\n",
       "      <td>NaN</td>\n",
       "      <td>NaN</td>\n",
       "      <td>NaN</td>\n",
       "      <td>NaN</td>\n",
       "      <td>NaN</td>\n",
       "      <td>NaN</td>\n",
       "      <td>NaN</td>\n",
       "      <td>0</td>\n",
       "    </tr>\n",
       "    <tr>\n",
       "      <th>6</th>\n",
       "      <td>7</td>\n",
       "      <td>simple</td>\n",
       "      <td>PENSA2</td>\n",
       "      <td>Gata pensativa</td>\n",
       "      <td>1</td>\n",
       "      <td>0</td>\n",
       "      <td>visible</td>\n",
       "      <td>NaN</td>\n",
       "      <td>NaN</td>\n",
       "      <td>NaN</td>\n",
       "      <td>...</td>\n",
       "      <td>NaN</td>\n",
       "      <td>NaN</td>\n",
       "      <td>NaN</td>\n",
       "      <td>NaN</td>\n",
       "      <td>NaN</td>\n",
       "      <td>NaN</td>\n",
       "      <td>NaN</td>\n",
       "      <td>NaN</td>\n",
       "      <td>NaN</td>\n",
       "      <td>0</td>\n",
       "    </tr>\n",
       "    <tr>\n",
       "      <th>7</th>\n",
       "      <td>8</td>\n",
       "      <td>simple</td>\n",
       "      <td>GATTOR</td>\n",
       "      <td>Gata tortuga</td>\n",
       "      <td>1</td>\n",
       "      <td>0</td>\n",
       "      <td>visible</td>\n",
       "      <td>NaN</td>\n",
       "      <td>NaN</td>\n",
       "      <td>NaN</td>\n",
       "      <td>...</td>\n",
       "      <td>NaN</td>\n",
       "      <td>NaN</td>\n",
       "      <td>NaN</td>\n",
       "      <td>NaN</td>\n",
       "      <td>NaN</td>\n",
       "      <td>NaN</td>\n",
       "      <td>NaN</td>\n",
       "      <td>NaN</td>\n",
       "      <td>NaN</td>\n",
       "      <td>0</td>\n",
       "    </tr>\n",
       "    <tr>\n",
       "      <th>8</th>\n",
       "      <td>9</td>\n",
       "      <td>simple</td>\n",
       "      <td>NaN</td>\n",
       "      <td>Gata en la terraza</td>\n",
       "      <td>1</td>\n",
       "      <td>0</td>\n",
       "      <td>visible</td>\n",
       "      <td>NaN</td>\n",
       "      <td>NaN</td>\n",
       "      <td>NaN</td>\n",
       "      <td>...</td>\n",
       "      <td>NaN</td>\n",
       "      <td>NaN</td>\n",
       "      <td>NaN</td>\n",
       "      <td>NaN</td>\n",
       "      <td>NaN</td>\n",
       "      <td>NaN</td>\n",
       "      <td>NaN</td>\n",
       "      <td>NaN</td>\n",
       "      <td>NaN</td>\n",
       "      <td>0</td>\n",
       "    </tr>\n",
       "    <tr>\n",
       "      <th>9</th>\n",
       "      <td>10</td>\n",
       "      <td>simple</td>\n",
       "      <td>NaN</td>\n",
       "      <td>Gata observando</td>\n",
       "      <td>1</td>\n",
       "      <td>0</td>\n",
       "      <td>visible</td>\n",
       "      <td>NaN</td>\n",
       "      <td>NaN</td>\n",
       "      <td>NaN</td>\n",
       "      <td>...</td>\n",
       "      <td>NaN</td>\n",
       "      <td>NaN</td>\n",
       "      <td>NaN</td>\n",
       "      <td>NaN</td>\n",
       "      <td>NaN</td>\n",
       "      <td>NaN</td>\n",
       "      <td>NaN</td>\n",
       "      <td>NaN</td>\n",
       "      <td>NaN</td>\n",
       "      <td>0</td>\n",
       "    </tr>\n",
       "  </tbody>\n",
       "</table>\n",
       "<p>10 rows × 39 columns</p>\n",
       "</div>"
      ],
      "text/plain": [
       "   ID    Tipo        SKU              Nombre  Publicado  ¿Está destacado?  \\\n",
       "0   1  simple        NaN          Gata Seria          1                 0   \n",
       "1   2  simple  BOCARRIBA   Gata boca arriba           1                 0   \n",
       "2   3  simple   CONTENTA       Gata contenta          1                 0   \n",
       "3   4  simple    COQUETA        Gata coqueta          1                 0   \n",
       "4   5  simple        DOR        Gata dormida          1                 0   \n",
       "5   6  simple        NaN       Gata enfadada          1                 0   \n",
       "6   7  simple     PENSA2      Gata pensativa          1                 0   \n",
       "7   8  simple     GATTOR        Gata tortuga          1                 0   \n",
       "8   9  simple        NaN  Gata en la terraza          1                 0   \n",
       "9  10  simple        NaN     Gata observando          1                 0   \n",
       "\n",
       "  Visibilidad en el catálogo  Descripción corta  Descripción  \\\n",
       "0                    visible                NaN          NaN   \n",
       "1                    visible                NaN          NaN   \n",
       "2                    visible                NaN          NaN   \n",
       "3                    visible                NaN          NaN   \n",
       "4                    visible                NaN          NaN   \n",
       "5                    visible                NaN          NaN   \n",
       "6                    visible                NaN          NaN   \n",
       "7                    visible                NaN          NaN   \n",
       "8                    visible                NaN          NaN   \n",
       "9                    visible                NaN          NaN   \n",
       "\n",
       "   Día en que empieza el precio rebajado  ...  Imágenes Límite de descargas  \\\n",
       "0                                    NaN  ...       NaN                 NaN   \n",
       "1                                    NaN  ...       NaN                 NaN   \n",
       "2                                    NaN  ...       NaN                 NaN   \n",
       "3                                    NaN  ...       NaN                 NaN   \n",
       "4                                    NaN  ...       NaN                 NaN   \n",
       "5                                    NaN  ...       NaN                 NaN   \n",
       "6                                    NaN  ...       NaN                 NaN   \n",
       "7                                    NaN  ...       NaN                 NaN   \n",
       "8                                    NaN  ...       NaN                 NaN   \n",
       "9                                    NaN  ...       NaN                 NaN   \n",
       "\n",
       "   Días de caducidad de la descarga  Superior  Productos agrupados  \\\n",
       "0                               NaN       NaN                  NaN   \n",
       "1                               NaN       NaN                  NaN   \n",
       "2                               NaN       NaN                  NaN   \n",
       "3                               NaN       NaN                  NaN   \n",
       "4                               NaN       NaN                  NaN   \n",
       "5                               NaN       NaN                  NaN   \n",
       "6                               NaN       NaN                  NaN   \n",
       "7                               NaN       NaN                  NaN   \n",
       "8                               NaN       NaN                  NaN   \n",
       "9                               NaN       NaN                  NaN   \n",
       "\n",
       "   Ventas dirigidas  Ventas cruzadas  URL externa  Texto del botón  Posición  \n",
       "0               NaN              NaN          NaN              NaN         0  \n",
       "1               NaN              NaN          NaN              NaN         0  \n",
       "2               NaN              NaN          NaN              NaN         0  \n",
       "3               NaN              NaN          NaN              NaN         0  \n",
       "4               NaN              NaN          NaN              NaN         0  \n",
       "5               NaN              NaN          NaN              NaN         0  \n",
       "6               NaN              NaN          NaN              NaN         0  \n",
       "7               NaN              NaN          NaN              NaN         0  \n",
       "8               NaN              NaN          NaN              NaN         0  \n",
       "9               NaN              NaN          NaN              NaN         0  \n",
       "\n",
       "[10 rows x 39 columns]"
      ]
     },
     "execution_count": 1,
     "metadata": {},
     "output_type": "execute_result"
    }
   ],
   "source": [
    "import pandas as pd\n",
    "df = pd.read_csv('gatos_ejemplo.csv', sep=';')\n",
    "df"
   ]
  },
  {
   "cell_type": "markdown",
   "metadata": {},
   "source": [
    "Estaba claro que el campo **Nombre** sería clave para trabajar y enlazar la mayor cantidad de imágenes, pero seguía teniendo el problema de las URL, que podía solucionarlo si renombraba los archivos por el SKU, que normalmente seguía ciertas normas y no solía contener caracteres no admitidos en la codificación de la URL. Aquí me encontré con el tercer problema:\n",
    "\n",
    "3. No hay SKU estandarizada y había productos que no tenían ninguna asignada.\n",
    "\n",
    "Por suerte, cuando subes un producto a una tienda WordPress, esta se referencia con un **ID** que puede actuar igual que un SKU y que, además, es completamente numérico: ¡perfecto! Así que decidí usarlo como referencia para las imágenes.\n",
    "\n",
    "**Presentado el problema, sigamos con la ejecución del trabajo que realicé.**\n",
    "\n",
    "### Datos facilitados para el ejemplo\n",
    "Por supuesto, la LPDP (y el sentido común) hace que no vaya a facilitar los datos originales con los que estuve trabajando; aunque sí que me referiré a él para hacer anotaciones que creo que serán de utilidad. Para poder gestionar el ejemplo, he decidido preparar un conjunto de datos específico y ficticio: un conjunto de imágenes con, bueno, fotografías de mis gatas.\n",
    "\n",
    "También he construido un conjunto de datos extraño en el que todavía no tengo claro si estoy vendiendo gatos o las fotos de mis gatas. Aclaro que, dentro de lo absurdo, esto solo sirve para ejemplificar a muy pequeña escala con el trabajo con el que me encontré.\n",
    "\n",
    "### Mirando qué extensiones tienen las fotografías\n",
    "Es importante comprobar que las extensiones de las imágenes son todas iguales y no tienes mezcladas imágenes en `.jpg` y `.png`. Si no las tienes todas en formato `.png` sería recomendable que, antes de seguir, te tomaras un segundo para realizar la conversión (porque usas conversor automático, ¿verdad?). Al menos, en mi caso, estaban todas (en el problema, en `.png` y, en este ejemplo, estarán todas en `.jpg`).\n",
    "\n",
    "Hay que entender que, a veces, para un volumen pequeño de datos que gestionar, no compensa dedicar un tiempo a pensar y hacerlo más automático, esto solo serviría para volúmenes donde la tarea se convertiría en un infierno de días monótonos haciendo lo mismo.\n",
    "\n",
    "Obviamente, no vamos a incluir el listado de imágenes en una lista de forma manual, la base de todo esto es ser muy eficientes ahora par ser después muy, muy perezosos ;-)"
   ]
  },
  {
   "cell_type": "code",
   "execution_count": 2,
   "metadata": {},
   "outputs": [],
   "source": [
    "from os import scandir, getcwd\n",
    "def ls(ruta = getcwd()):\n",
    "    return [arch.name for arch in scandir(ruta) if arch.is_file()]"
   ]
  },
  {
   "cell_type": "code",
   "execution_count": 3,
   "metadata": {},
   "outputs": [
    {
     "data": {
      "text/plain": [
       "['Gata mirando Tv.jpg',\n",
       " 'Gata enfadada.jpg',\n",
       " 'Gata bocarriba.jpg',\n",
       " 'gata seria.jpg',\n",
       " 'Gata coqueta.jpg',\n",
       " 'gata observando.jpg',\n",
       " 'gata contenta.jpg',\n",
       " 'Gata durmiendo.jpg',\n",
       " 'Gata limpiandose movida.jpg',\n",
       " 'Gatas en la terraza.jpg',\n",
       " 'Gata Tortuga.jpg',\n",
       " 'Patas de gato.jpg',\n",
       " 'Gata con fantasma.jpg']"
      ]
     },
     "execution_count": 3,
     "metadata": {},
     "output_type": "execute_result"
    }
   ],
   "source": [
    "img = ls('./c_gatos/')\n",
    "img"
   ]
  },
  {
   "cell_type": "code",
   "execution_count": 4,
   "metadata": {},
   "outputs": [
    {
     "data": {
      "text/plain": [
       "13"
      ]
     },
     "execution_count": 4,
     "metadata": {},
     "output_type": "execute_result"
    }
   ],
   "source": [
    "len(img)"
   ]
  },
  {
   "cell_type": "markdown",
   "metadata": {},
   "source": [
    "Con esto podemos comenzar a trabajar y buscar una solución que nos haga más rápido el trabajo. En este punto, es bueno preguntarse lo que queremos conseguir. En mi caso concreto: **renombrar las imágenes según el ID del producto en el csv**.\n",
    "\n",
    "Igual, tanto lío para 13 fotos no merece la pena, pero cuando son 525 el coste de tiempo es brutal; por lo que, perder un ratito comprobando si podía quitarme algo de trabajo comparando los nombres de las fotos con los nombres del csv era razonable y muy recomendable.\n",
    "\n",
    "Para poder comparar el nombre de los archivos con el del conjunto de datos, lo primero que debía hacer era quitar la extensión del archivo y buscar que el trabajo manual se redujera al mínimo."
   ]
  },
  {
   "cell_type": "code",
   "execution_count": 5,
   "metadata": {},
   "outputs": [
    {
     "data": {
      "text/plain": [
       "13"
      ]
     },
     "execution_count": 5,
     "metadata": {},
     "output_type": "execute_result"
    }
   ],
   "source": [
    "import re\n",
    "\n",
    "l_nombres = []\n",
    "\n",
    "for i in img:\n",
    "    i = re.sub(r'.jpg', '', i).lower().strip()\n",
    "    l_nombres.append(i)\n",
    "\n",
    "len(l_nombres)"
   ]
  },
  {
   "cell_type": "code",
   "execution_count": 6,
   "metadata": {},
   "outputs": [
    {
     "data": {
      "text/plain": [
       "10"
      ]
     },
     "execution_count": 6,
     "metadata": {},
     "output_type": "execute_result"
    }
   ],
   "source": [
    "df_nombres = []\n",
    "\n",
    "for n in df['Nombre']:\n",
    "    df_nombres.append(n.lower().strip())\n",
    "\n",
    "len(df_nombres)"
   ]
  },
  {
   "cell_type": "code",
   "execution_count": 7,
   "metadata": {},
   "outputs": [
    {
     "data": {
      "text/plain": [
       "6"
      ]
     },
     "execution_count": 7,
     "metadata": {},
     "output_type": "execute_result"
    }
   ],
   "source": [
    "coincidencia_nombres = []\n",
    "\n",
    "for n in l_nombres:\n",
    "    if n in df_nombres:\n",
    "        coincidencia_nombres.append(n)\n",
    "    else:\n",
    "        continue\n",
    "len(coincidencia_nombres)"
   ]
  },
  {
   "cell_type": "markdown",
   "metadata": {},
   "source": [
    "Para poder hacerme una idea de lo que ocurría y de si merecía la pena seguir por este camino, hice una comparación de los nombres de los archivos con los que aparecían en el `csv`; en este ejemplo está claro que no, pero en el real, con el que tenía que cruzar 525 fotos con 522 registros me ahorró tener que renombrar 433 imágenes.\n",
    "\n",
    "Podría haber limado y mejorado el código un poco, lo reconozco, pero parte de este ejercicio es mostrar el desarrollo hacia la solución que llevé a cabo, lo que significa, dejar algunas cosillas… raras.\n",
    "\n",
    "El siguiente paso para conseguir renombrar las imágenes era aislar lo que quiero relacionar y, bueno, ejecutar la acción a realizar; para ello, aislé las dos columnas del conjunto que me interesaban y lo convertí en una lista de tuplas **Nombre**, **ID**; igual haberlo hecho como un diccionario hubiese sido más lógico, pero en el momento se me antojó una tupla, ¿vale?\n",
    "\n",
    "Volví a cribar los resultados del csv para que volvieran a coincidir con los que había detectado en `coincidencia_nombres` y le añadí a todo la extensión de la imagen nuevamente."
   ]
  },
  {
   "cell_type": "code",
   "execution_count": 8,
   "metadata": {},
   "outputs": [
    {
     "data": {
      "text/plain": [
       "[('Gata Seria', 1),\n",
       " ('Gata boca arriba ', 2),\n",
       " ('Gata contenta', 3),\n",
       " ('Gata coqueta', 4),\n",
       " ('Gata dormida', 5),\n",
       " ('Gata enfadada', 6),\n",
       " ('Gata pensativa', 7),\n",
       " ('Gata tortuga', 8),\n",
       " ('Gata en la terraza', 9),\n",
       " ('Gata observando', 10)]"
      ]
     },
     "execution_count": 8,
     "metadata": {},
     "output_type": "execute_result"
    }
   ],
   "source": [
    "df2 = df[['Nombre', 'ID']]\n",
    "df2 = [tuple(x) for x in df2.to_records(index=False)]\n",
    "df2"
   ]
  },
  {
   "cell_type": "code",
   "execution_count": 9,
   "metadata": {},
   "outputs": [
    {
     "data": {
      "text/plain": [
       "[('Gata Seria', 1),\n",
       " ('Gata contenta', 3),\n",
       " ('Gata coqueta', 4),\n",
       " ('Gata enfadada', 6),\n",
       " ('Gata tortuga', 8),\n",
       " ('Gata observando', 10)]"
      ]
     },
     "execution_count": 9,
     "metadata": {},
     "output_type": "execute_result"
    }
   ],
   "source": [
    "comparacion = []\n",
    "for item in df2:\n",
    "    if item[0].lower() in coincidencia_nombres:\n",
    "        comparacion.append(item)\n",
    "    \n",
    "comparacion"
   ]
  },
  {
   "cell_type": "code",
   "execution_count": 10,
   "metadata": {},
   "outputs": [
    {
     "data": {
      "text/plain": [
       "[['gata seria.jpg', '1.jpg'],\n",
       " ['gata contenta.jpg', '3.jpg'],\n",
       " ['gata coqueta.jpg', '4.jpg'],\n",
       " ['gata enfadada.jpg', '6.jpg'],\n",
       " ['gata tortuga.jpg', '8.jpg'],\n",
       " ['gata observando.jpg', '10.jpg']]"
      ]
     },
     "execution_count": 10,
     "metadata": {},
     "output_type": "execute_result"
    }
   ],
   "source": [
    "imagenes = []\n",
    "for x in comparacion:\n",
    "    tupla = []\n",
    "    for i in x:\n",
    "        f = str(i).lower() + '.jpg'\n",
    "        tupla.append(f)\n",
    "    imagenes.append(tupla)\n",
    "imagenes"
   ]
  },
  {
   "cell_type": "markdown",
   "metadata": {},
   "source": [
    "Con esta información solo quedaba renombrar los archivos, aproveché también para separarlos de las imágenes que no habían pasado por el proceso moviéndolas a una nueva carpeta."
   ]
  },
  {
   "cell_type": "code",
   "execution_count": 11,
   "metadata": {},
   "outputs": [],
   "source": [
    "import shutil\n",
    "loc_descarga = './c_gatos/'\n",
    "loc_destino = './c_gatos/renombradas/'\n",
    "for x in imagenes:\n",
    "    shutil.move(loc_descarga + x[0], loc_destino + x[1])"
   ]
  },
  {
   "cell_type": "markdown",
   "metadata": {},
   "source": [
    "Una vez terminé el proceso, ya tenía  en una carpeta diferente todas las imágenes que se habían autorreconocido y cambiado el nombre; en mi caso, quedaron unas 100 y decidí que tocaba hacerlas a mano ya que eran problemas de transcripción o de cambio en el orden de palabras, así que llegué a la conclusión de que no servía de nada huir del problema de esas 100 ni buscar otra manera, y comencé con la tarea. Por supuesto, antes me hice una lista de los archivos que no tenían una relación con los elementos de la base de datos. Para ello:\n",
    "\n",
    "1. Realicé una nueva lista con los nombres de la carpeta de coincidencias\n",
    "2. Eliminé el `.png` y lo convertí en numérico\n",
    "3. Hice lo propio con los ID del conjunto haciendo una lista de elementos discriminados\n",
    "4. Utilicé la tupla que había creado antes de ('Nombre', 'ID') para recuperar aquellos que aparecieran en la lista de elementos discriminados."
   ]
  },
  {
   "cell_type": "code",
   "execution_count": 12,
   "metadata": {},
   "outputs": [
    {
     "data": {
      "text/plain": [
       "['8.jpg', '10.jpg', '4.jpg', '6.jpg', '3.jpg', '1.jpg']"
      ]
     },
     "execution_count": 12,
     "metadata": {},
     "output_type": "execute_result"
    }
   ],
   "source": [
    "img2 = ls('./c_gatos/renombradas/')\n",
    "img2"
   ]
  },
  {
   "cell_type": "code",
   "execution_count": 13,
   "metadata": {},
   "outputs": [
    {
     "data": {
      "text/plain": [
       "[8, 10, 4, 6, 3, 1]"
      ]
     },
     "execution_count": 13,
     "metadata": {},
     "output_type": "execute_result"
    }
   ],
   "source": [
    "l_nombres2 = []\n",
    "\n",
    "for i in img2:\n",
    "    i = int(re.sub(r'.jpg', '', i).lower().strip())\n",
    "    l_nombres2.append(i)\n",
    "\n",
    "l_nombres2"
   ]
  },
  {
   "cell_type": "code",
   "execution_count": 14,
   "metadata": {},
   "outputs": [
    {
     "data": {
      "text/plain": [
       "[2, 5, 7, 9]"
      ]
     },
     "execution_count": 14,
     "metadata": {},
     "output_type": "execute_result"
    }
   ],
   "source": [
    "df_nombres2 = []\n",
    "\n",
    "for n in df['ID']:\n",
    "    if n not in l_nombres2:\n",
    "        df_nombres2.append(n)\n",
    "df_nombres2"
   ]
  },
  {
   "cell_type": "code",
   "execution_count": 15,
   "metadata": {},
   "outputs": [
    {
     "data": {
      "text/plain": [
       "[('Gata boca arriba ', 2),\n",
       " ('Gata dormida', 5),\n",
       " ('Gata pensativa', 7),\n",
       " ('Gata en la terraza', 9)]"
      ]
     },
     "execution_count": 15,
     "metadata": {},
     "output_type": "execute_result"
    }
   ],
   "source": [
    "comparacion = []\n",
    "for item in df2:\n",
    "    if item[1] in df_nombres2:\n",
    "        comparacion.append(item)\n",
    "    \n",
    "comparacion"
   ]
  },
  {
   "cell_type": "markdown",
   "metadata": {},
   "source": [
    "Con los datos ya filtrados, tocó dedicar un ratito a renombrar las imágenes.\n",
    "\n",
    "Trabajar de esta manera, además, permite realizar de forma sencilla dos verificaciones sobre los conjuntos de imágenes y de datos:\n",
    "1. **Aquellas imágenes que no están todavía en la tienda.**\n",
    "2. **Productos de los que todavía no se tienen las imágenes.** Esto teniendo en cuenta que sea la primera subida de imágenes al catálogo de productos; para poder averiguar esto después, debería recurrirse a los nulos dentro del campo `Imágenes`. Pero eso ya es otra historia.\n",
    "\n",
    "Con esto, podemos notificar al cliente sobre las fotos que tenemos y no deberíamos (o sí, pero del que todavía no nos ha hecho llegar el resto de la información), y las que todavía nos faltarían para que todos los productos tengan al menos una."
   ]
  },
  {
   "cell_type": "markdown",
   "metadata": {},
   "source": [
    "## Generar el archivo de carga para la tienda de WordPress\n",
    "\n",
    "Una vez tengamos todos los archivos que necesitamos para nuestros productos renombrados como la tienda manda, toca generar un archivo `.csv` que nos permita hacer el trabajo rápido y teniéndolo todo ordenadito, con el nombre como dios manda, tenemos todo lo necesario para generarlo en un abrir y cerrar de ojos.\n",
    "\n",
    "### Actualización de tienda a través de WordPress\n",
    "\n",
    "Hay dos cosas fundamentales y muy importantes a la hora de trabajar de esta manera:\n",
    "\n",
    "**1. Recuerda siempre, antes de cargar un nuevo `.csv` que actualice información, descargarte una copia que te sirva para restaurarla por si la lías parda con alguna tontería.**\n",
    "\n",
    "**2. No es lo mismo añadir que actualizar, por lo que WordPress hará una cosa u otra con el archivo (normalmente, actualizará lo que ya tiene). Para actualizar, lo recomendable es solo introducir en el archivo los campos de identificación (ID) y los campos a los que afecta la actualización.** Igual de importante es analizar si ha aparecido algún error en la importación, en qué productos y porqué se ha producido.\n",
    "\n",
    "A modo de actualización, volveremos a importar las imágenes del directorio, que ya estarán renombradas por el ID y, con ello, matamos dos pájaros de un tiro:"
   ]
  },
  {
   "cell_type": "code",
   "execution_count": 16,
   "metadata": {},
   "outputs": [
    {
     "data": {
      "text/plain": [
       "['8.jpg',\n",
       " '9.jpg',\n",
       " '10.jpg',\n",
       " '4.jpg',\n",
       " '5.jpg',\n",
       " '6.jpg',\n",
       " '2.jpg',\n",
       " '3.jpg',\n",
       " '1.jpg']"
      ]
     },
     "execution_count": 16,
     "metadata": {},
     "output_type": "execute_result"
    }
   ],
   "source": [
    "img3 = ls('./c_gatos/renombradas/')\n",
    "img3"
   ]
  },
  {
   "cell_type": "code",
   "execution_count": 17,
   "metadata": {},
   "outputs": [
    {
     "data": {
      "text/plain": [
       "9"
      ]
     },
     "execution_count": 17,
     "metadata": {},
     "output_type": "execute_result"
    }
   ],
   "source": [
    "l_ID = []\n",
    "\n",
    "for i in img3:\n",
    "    i = re.sub(r'.jpg', '', i).lower().strip()\n",
    "    l_ID.append(i)\n",
    "\n",
    "len(l_ID)"
   ]
  },
  {
   "cell_type": "markdown",
   "metadata": {},
   "source": [
    "Para conocer la ruta de una imagen en el *hosting* solo tienes que consultarla a través de alguno de los productos que, a estas alturas, ya deberías estar cargando; con esta información, localiza la URL y verás que, ¡sorpresa!, todas están en el mismo directorio; solo tendrás que cambiar el nombre del archivo para generar las URL de cada una de ellas."
   ]
  },
  {
   "cell_type": "code",
   "execution_count": 18,
   "metadata": {},
   "outputs": [
    {
     "data": {
      "text/plain": [
       "['https://hosting.gatos.com/wp-content/uploads/2021/11/8.jpg',\n",
       " 'https://hosting.gatos.com/wp-content/uploads/2021/11/9.jpg',\n",
       " 'https://hosting.gatos.com/wp-content/uploads/2021/11/10.jpg',\n",
       " 'https://hosting.gatos.com/wp-content/uploads/2021/11/4.jpg',\n",
       " 'https://hosting.gatos.com/wp-content/uploads/2021/11/5.jpg',\n",
       " 'https://hosting.gatos.com/wp-content/uploads/2021/11/6.jpg',\n",
       " 'https://hosting.gatos.com/wp-content/uploads/2021/11/2.jpg',\n",
       " 'https://hosting.gatos.com/wp-content/uploads/2021/11/3.jpg',\n",
       " 'https://hosting.gatos.com/wp-content/uploads/2021/11/1.jpg']"
      ]
     },
     "execution_count": 18,
     "metadata": {},
     "output_type": "execute_result"
    }
   ],
   "source": [
    "inicio = 'https://hosting.gatos.com/wp-content/uploads/2021/11/'\n",
    "fin = '.jpg'\n",
    "\n",
    "lista_url = []\n",
    "for x in l_ID:\n",
    "    n = inicio + x + fin\n",
    "    lista_url.append(n)\n",
    "    \n",
    "lista_url"
   ]
  },
  {
   "cell_type": "code",
   "execution_count": 19,
   "metadata": {},
   "outputs": [
    {
     "data": {
      "text/html": [
       "<div>\n",
       "<style scoped>\n",
       "    .dataframe tbody tr th:only-of-type {\n",
       "        vertical-align: middle;\n",
       "    }\n",
       "\n",
       "    .dataframe tbody tr th {\n",
       "        vertical-align: top;\n",
       "    }\n",
       "\n",
       "    .dataframe thead th {\n",
       "        text-align: right;\n",
       "    }\n",
       "</style>\n",
       "<table border=\"1\" class=\"dataframe\">\n",
       "  <thead>\n",
       "    <tr style=\"text-align: right;\">\n",
       "      <th></th>\n",
       "      <th>ID</th>\n",
       "      <th>Imágenes</th>\n",
       "    </tr>\n",
       "  </thead>\n",
       "  <tbody>\n",
       "    <tr>\n",
       "      <th>0</th>\n",
       "      <td>8</td>\n",
       "      <td>https://hosting.gatos.com/wp-content/uploads/2...</td>\n",
       "    </tr>\n",
       "    <tr>\n",
       "      <th>1</th>\n",
       "      <td>9</td>\n",
       "      <td>https://hosting.gatos.com/wp-content/uploads/2...</td>\n",
       "    </tr>\n",
       "    <tr>\n",
       "      <th>2</th>\n",
       "      <td>10</td>\n",
       "      <td>https://hosting.gatos.com/wp-content/uploads/2...</td>\n",
       "    </tr>\n",
       "    <tr>\n",
       "      <th>3</th>\n",
       "      <td>4</td>\n",
       "      <td>https://hosting.gatos.com/wp-content/uploads/2...</td>\n",
       "    </tr>\n",
       "    <tr>\n",
       "      <th>4</th>\n",
       "      <td>5</td>\n",
       "      <td>https://hosting.gatos.com/wp-content/uploads/2...</td>\n",
       "    </tr>\n",
       "    <tr>\n",
       "      <th>5</th>\n",
       "      <td>6</td>\n",
       "      <td>https://hosting.gatos.com/wp-content/uploads/2...</td>\n",
       "    </tr>\n",
       "    <tr>\n",
       "      <th>6</th>\n",
       "      <td>2</td>\n",
       "      <td>https://hosting.gatos.com/wp-content/uploads/2...</td>\n",
       "    </tr>\n",
       "    <tr>\n",
       "      <th>7</th>\n",
       "      <td>3</td>\n",
       "      <td>https://hosting.gatos.com/wp-content/uploads/2...</td>\n",
       "    </tr>\n",
       "    <tr>\n",
       "      <th>8</th>\n",
       "      <td>1</td>\n",
       "      <td>https://hosting.gatos.com/wp-content/uploads/2...</td>\n",
       "    </tr>\n",
       "  </tbody>\n",
       "</table>\n",
       "</div>"
      ],
      "text/plain": [
       "   ID                                           Imágenes\n",
       "0   8  https://hosting.gatos.com/wp-content/uploads/2...\n",
       "1   9  https://hosting.gatos.com/wp-content/uploads/2...\n",
       "2  10  https://hosting.gatos.com/wp-content/uploads/2...\n",
       "3   4  https://hosting.gatos.com/wp-content/uploads/2...\n",
       "4   5  https://hosting.gatos.com/wp-content/uploads/2...\n",
       "5   6  https://hosting.gatos.com/wp-content/uploads/2...\n",
       "6   2  https://hosting.gatos.com/wp-content/uploads/2...\n",
       "7   3  https://hosting.gatos.com/wp-content/uploads/2...\n",
       "8   1  https://hosting.gatos.com/wp-content/uploads/2..."
      ]
     },
     "execution_count": 19,
     "metadata": {},
     "output_type": "execute_result"
    }
   ],
   "source": [
    "df3 = pd.DataFrame({\"ID\": l_ID, \"Imágenes\": lista_url})\n",
    "df3"
   ]
  },
  {
   "cell_type": "code",
   "execution_count": 20,
   "metadata": {},
   "outputs": [],
   "source": [
    "df3.to_csv('act_fotos_gatos.csv', index=False)"
   ]
  },
  {
   "cell_type": "markdown",
   "metadata": {},
   "source": [
    "Solo queda importar a la web el archivo `.csv` y dejar que trabaje; una vez finalizada la carga, ya están todas las imágenes subidas y enlazadas con sus productos. Solo queda hacer alguna comprobación aleatoria sobre los productos subidos, para confirmar que se ha realizado correctamente (pero esto, incluso si se ha hecho manualmente, también debería estar en la rutina de trabajo).\n",
    "\n",
    "### Conclusiones:\n",
    "Creo que haber hecho este trabajo así supone un ahorro de tiempo y energía, no solo para el trabajo actual, sino porque cuando llegue otro problema similar, tendré una base con la que trabajar y solo necesitaré ajustar algunas partes para poder sacar el mejor rendimiento del sistema.\n",
    "\n",
    "Mientras lo describía, por ejemplo, me he dado cuenta de algunas redundancias o temas que, como no me afectaban en este caso particular, no los planteé dentro de la solución: sustitución de tildes, eliminación de espacios en blanco, etc.; con los que igual podría haber conseguido un poco más de efectividad. De todas formas, haberme ahorrado buscar y renombrar 433 imágenes de 525, para mí, es más que suficiente; sobre todo, porque luego me encontré las excepciones que ya he descrito: productos que no tenían imágenes y imágenes que no correspondían a ningún producto.\n",
    "\n",
    "Automatizar este tipo de trabajo, además, puede ayudar a evitar algunos errores; ya que al hacerlo manualmente, en muchos registros, el cansancio y la monotonía de la tarea puede inducir a intercambio de caracteres o a omisiones de información en la inclusión de datos.\n",
    "\n",
    "No sé cuánto me hubiese supuesto en tiempo y cansancio mental hacer manualmente todas las imágenes; lo que sé, es que en plantear esta solución y ejecutarla tardé 3 horas, y las considero bien invertidas. Espero que también os pueda servir como base para plantearos vuestras propias soluciones y utilizar el tiempo de manera más efectiva.\n",
    "\n",
    "\n",
    "### *Bonus anecdótico*:\n",
    "\n",
    "Imagina que trabajas manualmente con la interfaz de WordPress y, una vez has terminado de subir y enlazar las imágenes, te das cuenta de que no se visualizan correctamente y tienes que tratarlas para luego volver a subirlas, no te dará tiempo a hacerlo antes del cambio de mes y, por lo tanto, cambiará la URL cuando subas las imágenes correctas. Terrorífico, ¿verdad?\n",
    "\n",
    "Nos ha ocurrido: las dimensiones no estaban bien.\n",
    "\n",
    "Es cierto que en un proceso manualmente es probable que se hubiese detectado el error antes de finalizar el proceso, pero habiendo estandarizado los nombres de las imágenes y actualizar los enlaces a través de un `.csv` reduce el problema a:\n",
    "1. eliminar archivos de los medios,\n",
    "2. modificar y volverlos a subir,\n",
    "3. actualizar un `.csv`.\n",
    "¿Cuánto tiempo crees que me llevará corregir el error en cuanto tenga las imágenes correctamente dimensionadas?"
   ]
  }
 ],
 "metadata": {
  "kernelspec": {
   "display_name": "Python 3",
   "language": "python",
   "name": "python3"
  },
  "language_info": {
   "codemirror_mode": {
    "name": "ipython",
    "version": 3
   },
   "file_extension": ".py",
   "mimetype": "text/x-python",
   "name": "python",
   "nbconvert_exporter": "python",
   "pygments_lexer": "ipython3",
   "version": "3.8.5"
  }
 },
 "nbformat": 4,
 "nbformat_minor": 4
}
